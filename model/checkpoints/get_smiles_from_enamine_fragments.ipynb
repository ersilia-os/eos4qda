{
 "cells": [
  {
   "cell_type": "code",
   "execution_count": 7,
   "metadata": {},
   "outputs": [
    {
     "name": "stderr",
     "output_type": "stream",
     "text": [
      "[17:48:16] Can't kekulize mol.  Unkekulized atoms: 3 6\n",
      "[17:48:17] Warning: ambiguous stereochemistry - zero final chiral volume - at atom 4 ignored\n",
      "[17:48:19] Can't kekulize mol.  Unkekulized atoms: 2 5\n",
      "[17:48:19] Can't kekulize mol.  Unkekulized atoms: 3 7\n"
     ]
    }
   ],
   "source": [
    "from rdkit import Chem\n",
    "from rdkit.Chem import AllChem\n",
    "import os\n",
    "from standardiser import standardise\n",
    "\n",
    "# Assuming you have an SDF file named 'molecules.sdf'\n",
    "sdf_filename = 'molecules.sdf'\n",
    "\n",
    "\n",
    "def get_smiles(sdf_filename):\n",
    "    # Create a supplier object to iterate over the SDF\n",
    "    sdf_supplier = Chem.SDMolSupplier(sdf_filename)\n",
    "\n",
    "    # Initialize an empty list to hold SMILES strings\n",
    "    smiles_list = []\n",
    "\n",
    "    # Iterate over all molecules in the SDF\n",
    "    for mol in sdf_supplier:\n",
    "        if mol is not None:  # Check if the molecule is valid\n",
    "            # Convert the molecule to a SMILES string and add to the list\n",
    "            try:\n",
    "                mol = standardise.run(mol)\n",
    "                smiles = Chem.MolToSmiles(mol)\n",
    "                smiles_list.append(smiles)\n",
    "            except:\n",
    "                pass\n",
    "\n",
    "    # Now, `smiles_list` contains all SMILES strings from the SDF file\n",
    "    return smiles_list\n",
    "\n",
    "smiles = []\n",
    "for f in os.listdir(\".\"):\n",
    "    if f.startswith(\"Enamine_\"):\n",
    "        smiles += get_smiles(f)\n",
    "\n",
    "smiles = list(set(smiles))\n",
    "with open(\"fragments_from_enamine.smi\", \"w\") as f:\n",
    "    for i, smi in enumerate(smiles):\n",
    "        f.write(smi + \"\\t\" + \"frag\" + str(i) + \"\\n\")\n"
   ]
  },
  {
   "cell_type": "code",
   "execution_count": 9,
   "metadata": {},
   "outputs": [],
   "source": [
    "frags = []\n",
    "\n",
    "for f in os.listdir(\".\"):\n",
    "    if f.startswith(\"fragmented_fragments\"):\n",
    "        with open(f, \"r\") as f:\n",
    "            reader = csv.reader(f, delimiter=\"\\t\")\n",
    "            for r in reader:\n",
    "                frags += [r[0]]\n",
    "\n",
    "frags = list(set(frags))\n",
    "import random\n",
    "\n",
    "random.shuffle(frags)\n",
    "\n",
    "with open(\"fragmented_fragments_from_enamine_merged.smi\", \"w\") as f:\n",
    "    for i, frag in enumerate(frags):\n",
    "        f.write(frag + \"\\t\" + \"frag_\" + str(i) + \"\\n\")"
   ]
  },
  {
   "cell_type": "code",
   "execution_count": 17,
   "metadata": {},
   "outputs": [
    {
     "ename": "NameError",
     "evalue": "name 're' is not defined",
     "output_type": "error",
     "traceback": [
      "\u001b[0;31m---------------------------------------------------------------------------\u001b[0m",
      "\u001b[0;31mNameError\u001b[0m                                 Traceback (most recent call last)",
      "\u001b[1;32m/home/miquelduranfrigola/Documents/GitHub/eos4qda/model/checkpoints/get_smiles_from_enamine_fragments.ipynb Cell 3\u001b[0m line \u001b[0;36m5\n\u001b[1;32m      <a href='vscode-notebook-cell:/home/miquelduranfrigola/Documents/GitHub/eos4qda/model/checkpoints/get_smiles_from_enamine_fragments.ipynb#W2sZmlsZQ%3D%3D?line=1'>2</a>\u001b[0m     s \u001b[39m=\u001b[39m [y \u001b[39mfor\u001b[39;00m x \u001b[39min\u001b[39;00m s\u001b[39m.\u001b[39msplit(\u001b[39m\"\u001b[39m\u001b[39m[*\u001b[39m\u001b[39m\"\u001b[39m) \u001b[39mfor\u001b[39;00m y \u001b[39min\u001b[39;00m x\u001b[39m.\u001b[39msplit(\u001b[39m\"\u001b[39m\u001b[39m]\u001b[39m\u001b[39m\"\u001b[39m) \u001b[39mif\u001b[39;00m re\u001b[39m.\u001b[39msearch(\u001b[39m'\u001b[39m\u001b[39m[a-zA-Z]\u001b[39m\u001b[39m'\u001b[39m, y)]\n\u001b[1;32m      <a href='vscode-notebook-cell:/home/miquelduranfrigola/Documents/GitHub/eos4qda/model/checkpoints/get_smiles_from_enamine_fragments.ipynb#W2sZmlsZQ%3D%3D?line=2'>3</a>\u001b[0m     \u001b[39mreturn\u001b[39;00m s \n\u001b[0;32m----> <a href='vscode-notebook-cell:/home/miquelduranfrigola/Documents/GitHub/eos4qda/model/checkpoints/get_smiles_from_enamine_fragments.ipynb#W2sZmlsZQ%3D%3D?line=4'>5</a>\u001b[0m break_molecule()\n",
      "\u001b[1;32m/home/miquelduranfrigola/Documents/GitHub/eos4qda/model/checkpoints/get_smiles_from_enamine_fragments.ipynb Cell 3\u001b[0m line \u001b[0;36m2\n\u001b[1;32m      <a href='vscode-notebook-cell:/home/miquelduranfrigola/Documents/GitHub/eos4qda/model/checkpoints/get_smiles_from_enamine_fragments.ipynb#W2sZmlsZQ%3D%3D?line=0'>1</a>\u001b[0m \u001b[39mdef\u001b[39;00m \u001b[39mbreak_molecule\u001b[39m(s \u001b[39m=\u001b[39m \u001b[39m\"\u001b[39m\u001b[39mc1c(C(C)[*:1][*:2]C(=O)O)ccc(CC(C)C)c1\u001b[39m\u001b[39m\"\u001b[39m):\n\u001b[0;32m----> <a href='vscode-notebook-cell:/home/miquelduranfrigola/Documents/GitHub/eos4qda/model/checkpoints/get_smiles_from_enamine_fragments.ipynb#W2sZmlsZQ%3D%3D?line=1'>2</a>\u001b[0m     s \u001b[39m=\u001b[39m [y \u001b[39mfor\u001b[39;00m x \u001b[39min\u001b[39;00m s\u001b[39m.\u001b[39msplit(\u001b[39m\"\u001b[39m\u001b[39m[*\u001b[39m\u001b[39m\"\u001b[39m) \u001b[39mfor\u001b[39;00m y \u001b[39min\u001b[39;00m x\u001b[39m.\u001b[39msplit(\u001b[39m\"\u001b[39m\u001b[39m]\u001b[39m\u001b[39m\"\u001b[39m) \u001b[39mif\u001b[39;00m re\u001b[39m.\u001b[39msearch(\u001b[39m'\u001b[39m\u001b[39m[a-zA-Z]\u001b[39m\u001b[39m'\u001b[39m, y)]\n\u001b[1;32m      <a href='vscode-notebook-cell:/home/miquelduranfrigola/Documents/GitHub/eos4qda/model/checkpoints/get_smiles_from_enamine_fragments.ipynb#W2sZmlsZQ%3D%3D?line=2'>3</a>\u001b[0m     \u001b[39mreturn\u001b[39;00m s\n",
      "\u001b[1;32m/home/miquelduranfrigola/Documents/GitHub/eos4qda/model/checkpoints/get_smiles_from_enamine_fragments.ipynb Cell 3\u001b[0m line \u001b[0;36m2\n\u001b[1;32m      <a href='vscode-notebook-cell:/home/miquelduranfrigola/Documents/GitHub/eos4qda/model/checkpoints/get_smiles_from_enamine_fragments.ipynb#W2sZmlsZQ%3D%3D?line=0'>1</a>\u001b[0m \u001b[39mdef\u001b[39;00m \u001b[39mbreak_molecule\u001b[39m(s \u001b[39m=\u001b[39m \u001b[39m\"\u001b[39m\u001b[39mc1c(C(C)[*:1][*:2]C(=O)O)ccc(CC(C)C)c1\u001b[39m\u001b[39m\"\u001b[39m):\n\u001b[0;32m----> <a href='vscode-notebook-cell:/home/miquelduranfrigola/Documents/GitHub/eos4qda/model/checkpoints/get_smiles_from_enamine_fragments.ipynb#W2sZmlsZQ%3D%3D?line=1'>2</a>\u001b[0m     s \u001b[39m=\u001b[39m [y \u001b[39mfor\u001b[39;00m x \u001b[39min\u001b[39;00m s\u001b[39m.\u001b[39msplit(\u001b[39m\"\u001b[39m\u001b[39m[*\u001b[39m\u001b[39m\"\u001b[39m) \u001b[39mfor\u001b[39;00m y \u001b[39min\u001b[39;00m x\u001b[39m.\u001b[39msplit(\u001b[39m\"\u001b[39m\u001b[39m]\u001b[39m\u001b[39m\"\u001b[39m) \u001b[39mif\u001b[39;00m re\u001b[39m.\u001b[39msearch(\u001b[39m'\u001b[39m\u001b[39m[a-zA-Z]\u001b[39m\u001b[39m'\u001b[39m, y)]\n\u001b[1;32m      <a href='vscode-notebook-cell:/home/miquelduranfrigola/Documents/GitHub/eos4qda/model/checkpoints/get_smiles_from_enamine_fragments.ipynb#W2sZmlsZQ%3D%3D?line=2'>3</a>\u001b[0m     \u001b[39mreturn\u001b[39;00m s\n",
      "\u001b[0;31mNameError\u001b[0m: name 're' is not defined"
     ]
    }
   ],
   "source": [
    "import re\n",
    "\n",
    "def break_molecule(s = \"c1c(C(C)[*:1][*:2]C(=O)O)ccc(CC(C)C)c1\"):\n",
    "    s = [y for x in s.split(\"[*\") for y in x.split(\"]\") if re.search('[a-zA-Z]', y)]\n",
    "    return s \n",
    "\n",
    "break_molecule()"
   ]
  }
 ],
 "metadata": {
  "kernelspec": {
   "display_name": "ersilia",
   "language": "python",
   "name": "python3"
  },
  "language_info": {
   "codemirror_mode": {
    "name": "ipython",
    "version": 3
   },
   "file_extension": ".py",
   "mimetype": "text/x-python",
   "name": "python",
   "nbconvert_exporter": "python",
   "pygments_lexer": "ipython3",
   "version": "3.10.13"
  }
 },
 "nbformat": 4,
 "nbformat_minor": 2
}
