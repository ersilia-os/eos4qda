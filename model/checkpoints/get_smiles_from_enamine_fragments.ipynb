{
 "cells": [
  {
   "cell_type": "code",
   "execution_count": 7,
   "metadata": {},
   "outputs": [
    {
     "name": "stderr",
     "output_type": "stream",
     "text": [
      "[17:48:16] Can't kekulize mol.  Unkekulized atoms: 3 6\n",
      "[17:48:17] Warning: ambiguous stereochemistry - zero final chiral volume - at atom 4 ignored\n",
      "[17:48:19] Can't kekulize mol.  Unkekulized atoms: 2 5\n",
      "[17:48:19] Can't kekulize mol.  Unkekulized atoms: 3 7\n"
     ]
    }
   ],
   "source": [
    "from rdkit import Chem\n",
    "from rdkit.Chem import AllChem\n",
    "import os\n",
    "from standardiser import standardise\n",
    "\n",
    "# Assuming you have an SDF file named 'molecules.sdf'\n",
    "sdf_filename = 'molecules.sdf'\n",
    "\n",
    "\n",
    "def get_smiles(sdf_filename):\n",
    "    # Create a supplier object to iterate over the SDF\n",
    "    sdf_supplier = Chem.SDMolSupplier(sdf_filename)\n",
    "\n",
    "    # Initialize an empty list to hold SMILES strings\n",
    "    smiles_list = []\n",
    "\n",
    "    # Iterate over all molecules in the SDF\n",
    "    for mol in sdf_supplier:\n",
    "        if mol is not None:  # Check if the molecule is valid\n",
    "            # Convert the molecule to a SMILES string and add to the list\n",
    "            try:\n",
    "                mol = standardise.run(mol)\n",
    "                smiles = Chem.MolToSmiles(mol)\n",
    "                smiles_list.append(smiles)\n",
    "            except:\n",
    "                pass\n",
    "\n",
    "    # Now, `smiles_list` contains all SMILES strings from the SDF file\n",
    "    return smiles_list\n",
    "\n",
    "smiles = []\n",
    "for f in os.listdir(\".\"):\n",
    "    if f.startswith(\"Enamine_\"):\n",
    "        smiles += get_smiles(f)\n",
    "\n",
    "smiles = list(set(smiles))\n",
    "with open(\"fragments_from_enamine.smi\", \"w\") as f:\n",
    "    for i, smi in enumerate(smiles):\n",
    "        f.write(smi + \"\\t\" + \"frag\" + str(i) + \"\\n\")\n"
   ]
  },
  {
   "cell_type": "code",
   "execution_count": 9,
   "metadata": {},
   "outputs": [],
   "source": [
    "frags = []\n",
    "\n",
    "for f in os.listdir(\".\"):\n",
    "    if f.startswith(\"fragmented_fragments\"):\n",
    "        with open(f, \"r\") as f:\n",
    "            reader = csv.reader(f, delimiter=\"\\t\")\n",
    "            for r in reader:\n",
    "                frags += [r[0]]\n",
    "\n",
    "frags = list(set(frags))\n",
    "import random\n",
    "\n",
    "random.shuffle(frags)\n",
    "\n",
    "with open(\"fragmented_fragments_from_enamine_merged.smi\", \"w\") as f:\n",
    "    for i, frag in enumerate(frags):\n",
    "        f.write(frag + \"\\t\" + \"frag_\" + str(i) + \"\\n\")"
   ]
  },
  {
   "cell_type": "code",
   "execution_count": 18,
   "metadata": {},
   "outputs": [
    {
     "data": {
      "text/plain": [
       "['c1c(C(C)', 'C(=O)O)ccc(CC(C)C)c1']"
      ]
     },
     "execution_count": 18,
     "metadata": {},
     "output_type": "execute_result"
    }
   ],
   "source": [
    "import re\n",
    "\n",
    "def break_molecule(s = \"c1c(C(C)[*:1][*:2]C(=O)O)ccc(CC(C)C)c1\"):\n",
    "    s = [y for x in s.split(\"[*\") for y in x.split(\"]\") if re.search('[a-zA-Z]', y)]\n",
    "    return s \n",
    "\n",
    "break_molecule()"
   ]
  }
 ],
 "metadata": {
  "kernelspec": {
   "display_name": "ersilia",
   "language": "python",
   "name": "python3"
  },
  "language_info": {
   "codemirror_mode": {
    "name": "ipython",
    "version": 3
   },
   "file_extension": ".py",
   "mimetype": "text/x-python",
   "name": "python",
   "nbconvert_exporter": "python",
   "pygments_lexer": "ipython3",
   "version": "3.10.13"
  }
 },
 "nbformat": 4,
 "nbformat_minor": 2
}
